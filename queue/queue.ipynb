{
 "cells": [
  {
   "cell_type": "code",
   "execution_count": 6,
   "id": "3bf803a3",
   "metadata": {},
   "outputs": [],
   "source": [
    "import threading\n",
    "import time\n",
    "\n",
    "from collections import deque\n",
    "\n",
    "class Queue:\n",
    "    def __init__(self):\n",
    "        self.buffer = deque()\n",
    "\n",
    "    def enqueue(self, val):\n",
    "        self.buffer.appendleft(val)\n",
    "\n",
    "    def dequeue(self):\n",
    "        if len(self.buffer)==0:\n",
    "            print(\"Queue is empty\")\n",
    "            return\n",
    "\n",
    "        return self.buffer.pop()\n",
    "\n",
    "    def is_empty(self):\n",
    "        return len(self.buffer) == 0\n",
    "\n",
    "    def size(self):\n",
    "        return len(self.buffer)\n",
    "    \n",
    "    def front(self):\n",
    "        return self.buffer[-1]\n"
   ]
  },
  {
   "cell_type": "raw",
   "id": "5f57b478",
   "metadata": {},
   "source": [
    " Design a food ordering system where your python program will run two threads,\n",
    "\n",
    "# Place Order: This thread will be placing an order and inserting that into a queue. This thread places new order every 0.5 second. (hint: use time.sleep(0.5) function)\n",
    "# Serve Order: This thread will server the order. All you need to do is pop the order out of the queue and print it. This thread serves an order every 2 seconds. Also start this thread 1 second after place order thread is started.\n",
    "# This problem is a producer,consumer problem where place_order thread is producing orders whereas server_order thread is consuming the food orders. Use Queue class implemented in a video tutorial. "
   ]
  },
  {
   "cell_type": "code",
   "execution_count": 3,
   "id": "27d8f805",
   "metadata": {},
   "outputs": [
    {
     "name": "stdout",
     "output_type": "stream",
     "text": [
      "Placing order for: pizza\n",
      "Placing order for: samosa\n",
      "Placing order for: pasta\n",
      "Now serving:  pizza\n",
      "Placing order for: biryani\n",
      "Placing order for: burger\n",
      "Placing order for: yam\n",
      "Now serving:  samosa\n",
      "Now serving:  pasta\n",
      "Now serving:  biryani\n",
      "Now serving:  burger\n",
      "Now serving:  yam\n",
      "All orders have been served.\n"
     ]
    }
   ],
   "source": [
    "food_order_queue = Queue()\n",
    "\n",
    "def place_orders(orders):\n",
    "    for order in orders:\n",
    "        print(\"Placing order for:\",order)\n",
    "        food_order_queue.enqueue(order)\n",
    "        time.sleep(0.5)\n",
    "\n",
    "\n",
    "def serve_orders():\n",
    "    time.sleep(1)\n",
    "    while not food_order_queue.is_empty():\n",
    "        order = food_order_queue.dequeue()\n",
    "        if order is not None:\n",
    "            print(\"Now serving: \",order)\n",
    "        time.sleep(2)\n",
    "    print(\"All orders have been served.\")\n",
    "    \n",
    "if __name__ == '__main__':\n",
    "    orders = ['pizza','samosa','pasta','biryani','burger', 'yam']\n",
    "    t1 = threading.Thread(target=place_orders, args=(orders,))\n",
    "    t2 = threading.Thread(target=serve_orders)\n",
    "\n",
    "    t1.start()\n",
    "    t2.start()"
   ]
  },
  {
   "cell_type": "code",
   "execution_count": 4,
   "id": "90120b4c",
   "metadata": {},
   "outputs": [],
   "source": [
    "#Write a program to print binary numbers from 1 to 10 using Queue. Use Queue class implemented in main tutorial.\n",
    "#Binary sequence should look like,"
   ]
  },
  {
   "cell_type": "code",
   "execution_count": 11,
   "id": "dd200188",
   "metadata": {},
   "outputs": [
    {
     "name": "stdout",
     "output_type": "stream",
     "text": [
      "__ 1 __\n",
      "__ 10 __\n",
      "__ 11 __\n",
      "__ 100 __\n",
      "__ 101 __\n",
      "__ 110 __\n",
      "__ 111 __\n",
      "__ 1000 __\n",
      "__ 1001 __\n",
      "__ 1010 __\n"
     ]
    }
   ],
   "source": [
    "def produce_binary_numbers(n):\n",
    "    numbers_queue = Queue()\n",
    "    numbers_queue.enqueue(\"1\")\n",
    "\n",
    "    for i in range(n):\n",
    "        front = numbers_queue.front()\n",
    "        print(\"__\", front, \"__\")\n",
    "        numbers_queue.enqueue(front + \"0\")\n",
    "        numbers_queue.enqueue(front + \"1\")\n",
    "\n",
    "        numbers_queue.dequeue()\n",
    "\n",
    "\n",
    "if __name__ == '__main__':\n",
    "    produce_binary_numbers(10)"
   ]
  },
  {
   "cell_type": "code",
   "execution_count": null,
   "id": "b93f6d94",
   "metadata": {},
   "outputs": [],
   "source": []
  },
  {
   "cell_type": "code",
   "execution_count": null,
   "id": "4f08be86",
   "metadata": {},
   "outputs": [],
   "source": []
  }
 ],
 "metadata": {
  "kernelspec": {
   "display_name": "Python 3 (ipykernel)",
   "language": "python",
   "name": "python3"
  },
  "language_info": {
   "codemirror_mode": {
    "name": "ipython",
    "version": 3
   },
   "file_extension": ".py",
   "mimetype": "text/x-python",
   "name": "python",
   "nbconvert_exporter": "python",
   "pygments_lexer": "ipython3",
   "version": "3.11.5"
  }
 },
 "nbformat": 4,
 "nbformat_minor": 5
}
