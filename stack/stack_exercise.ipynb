{
 "cells": [
  {
   "cell_type": "code",
   "execution_count": 12,
   "id": "424e68b2",
   "metadata": {},
   "outputs": [],
   "source": [
    "#using the stack class that will reverse a string"
   ]
  },
  {
   "cell_type": "code",
   "execution_count": 13,
   "id": "735ab0fc",
   "metadata": {},
   "outputs": [],
   "source": [
    "from collections import deque\n",
    "\n",
    "class Stack:\n",
    "    def __init__(self):\n",
    "        self.container = deque()\n",
    "    \n",
    "    def push(self, val):\n",
    "        self.container.append(val)\n",
    "\n",
    "    def pop(self):\n",
    "        return self.container.pop()\n",
    "\n",
    "    def peek(self):\n",
    "        return self.container[-1]\n",
    " \n",
    "    def is_empty(self):\n",
    "        return len(self.container)==0\n",
    "\n",
    "    def size(self):\n",
    "        return len(self.container)"
   ]
  },
  {
   "cell_type": "code",
   "execution_count": 15,
   "id": "7a5c8d2b",
   "metadata": {},
   "outputs": [
    {
     "name": "stdout",
     "output_type": "stream",
     "text": [
      "91-IVOC reuqnoc lliw eW\n",
      "gniK eht ma I\n"
     ]
    }
   ],
   "source": [
    "def reverse_string(s):\n",
    "    stack = Stack()\n",
    "    \n",
    "    for ch in s:\n",
    "        stack.push(ch)\n",
    "        \n",
    "    rstr = ''\n",
    "    while stack.size()!=0:\n",
    "        rstr += stack.pop()\n",
    "        \n",
    "    return rstr\n",
    "\n",
    "if __name__ == '__main__':\n",
    "    print(reverse_string(\"We will conquer COVI-19\"))\n",
    "    print(reverse_string(\"I am the King\"))\n",
    "    "
   ]
  },
  {
   "cell_type": "code",
   "execution_count": null,
   "id": "b95c3cbb",
   "metadata": {},
   "outputs": [],
   "source": [
    "def is_match(ch1, ch2):\n",
    "    match_dict = {\n",
    "        ')':'(',\n",
    "        ']':'[',\n",
    "        '}':'{',\n",
    "    }\n",
    "    return match_dict[ch1]==ch2\n",
    "\n",
    "def is_balanced(s):\n",
    "    stack = Stack()\n",
    "    \n",
    "    for ch in s:\n",
    "        if ch in '([{':\n",
    "            stack.push(ch)\n",
    "        if ch in ')}]':\n",
    "            if stack.size()==0:\n",
    "                return False\n",
    "            if not is_match(ch, stack.pop()):\n",
    "                return False\n",
    "    return stacl.size()==0\n",
    "\n",
    "if __name__ == '__main__':\n",
    "    print(is_balanced(\"({a+b})\"))\n",
    "    print(is_balanced(\"))((a+b}{\"))\n",
    "    print(is_balanced(\"((a+b))\"))\n",
    "    print(is_balanced(\"((a+g))\"))\n",
    "    print(is_balanced(\"))\"))\n",
    "    print(is_balanced(\"[a+b]*(x+2y)*{gg+kk}\"))"
   ]
  },
  {
   "cell_type": "code",
   "execution_count": null,
   "id": "9a50f360",
   "metadata": {},
   "outputs": [],
   "source": []
  }
 ],
 "metadata": {
  "kernelspec": {
   "display_name": "Python 3 (ipykernel)",
   "language": "python",
   "name": "python3"
  },
  "language_info": {
   "codemirror_mode": {
    "name": "ipython",
    "version": 3
   },
   "file_extension": ".py",
   "mimetype": "text/x-python",
   "name": "python",
   "nbconvert_exporter": "python",
   "pygments_lexer": "ipython3",
   "version": "3.11.5"
  }
 },
 "nbformat": 4,
 "nbformat_minor": 5
}
