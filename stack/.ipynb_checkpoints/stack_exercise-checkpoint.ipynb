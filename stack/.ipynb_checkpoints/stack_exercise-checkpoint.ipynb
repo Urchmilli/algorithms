{
 "cells": [
  {
   "cell_type": "code",
   "execution_count": null,
   "id": "4388b34f",
   "metadata": {},
   "outputs": [],
   "source": [
    "#using the stack class that will reverse a string"
   ]
  },
  {
   "cell_type": "code",
   "execution_count": 1,
   "id": "04990fd4",
   "metadata": {},
   "outputs": [],
   "source": [
    "from collections import deque\n",
    "\n",
    "class Stack:\n",
    "    def __init__(self):\n",
    "        self.container = deque()\n",
    "    \n",
    "    def push(self, val):\n",
    "        self.container.append(val)\n",
    "\n",
    "    def pop(self):\n",
    "        return self.container.pop()\n",
    "\n",
    "    def peek(self):\n",
    "        return self.container[-1]\n",
    " \n",
    "    def is_empty(self):\n",
    "        return len(self.container)==0\n",
    "\n",
    "    def size(self):\n",
    "        return len(self.container)\n",
    "    \n",
    "    def reverse_string(self, str):\n",
    "        output=\"\"\n",
    "        while self.size > 0:\n",
    "            self.container.pop() += output\n",
    "        return output"
   ]
  },
  {
   "cell_type": "code",
   "execution_count": 4,
   "id": "7aec6a1f",
   "metadata": {},
   "outputs": [],
   "source": [
    "\n",
    "    "
   ]
  },
  {
   "cell_type": "code",
   "execution_count": 3,
   "id": "71d3fbc2",
   "metadata": {},
   "outputs": [
    {
     "ename": "TypeError",
     "evalue": "Stack.__init__() takes 1 positional argument but 2 were given",
     "output_type": "error",
     "traceback": [
      "\u001b[1;31m---------------------------------------------------------------------------\u001b[0m",
      "\u001b[1;31mTypeError\u001b[0m                                 Traceback (most recent call last)",
      "Cell \u001b[1;32mIn[3], line 1\u001b[0m\n\u001b[1;32m----> 1\u001b[0m reverse_string(\u001b[38;5;124m\"\u001b[39m\u001b[38;5;124mWe will conquer COVI-19\u001b[39m\u001b[38;5;124m\"\u001b[39m)\n",
      "Cell \u001b[1;32mIn[2], line 2\u001b[0m, in \u001b[0;36mreverse_string\u001b[1;34m(str)\u001b[0m\n\u001b[0;32m      1\u001b[0m \u001b[38;5;28;01mdef\u001b[39;00m \u001b[38;5;21mreverse_string\u001b[39m(\u001b[38;5;28mstr\u001b[39m):\n\u001b[1;32m----> 2\u001b[0m     s \u001b[38;5;241m=\u001b[39m Stack(\u001b[38;5;28mstr\u001b[39m)\n\u001b[0;32m      4\u001b[0m     rev_string \u001b[38;5;241m=\u001b[39m \u001b[38;5;124m\"\u001b[39m\u001b[38;5;124m\"\u001b[39m\n\u001b[0;32m      6\u001b[0m     \u001b[38;5;28;01mwhile\u001b[39;00m s:\n",
      "\u001b[1;31mTypeError\u001b[0m: Stack.__init__() takes 1 positional argument but 2 were given"
     ]
    }
   ],
   "source": [
    "reverse_string(\"We will conquer COVI-19\")"
   ]
  },
  {
   "cell_type": "code",
   "execution_count": null,
   "id": "2c6ec03b",
   "metadata": {},
   "outputs": [],
   "source": []
  }
 ],
 "metadata": {
  "kernelspec": {
   "display_name": "Python 3 (ipykernel)",
   "language": "python",
   "name": "python3"
  },
  "language_info": {
   "codemirror_mode": {
    "name": "ipython",
    "version": 3
   },
   "file_extension": ".py",
   "mimetype": "text/x-python",
   "name": "python",
   "nbconvert_exporter": "python",
   "pygments_lexer": "ipython3",
   "version": "3.11.5"
  }
 },
 "nbformat": 4,
 "nbformat_minor": 5
}
